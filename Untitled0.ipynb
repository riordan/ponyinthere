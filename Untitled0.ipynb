{
 "metadata": {
  "name": ""
 },
 "nbformat": 3,
 "nbformat_minor": 0,
 "worksheets": [
  {
   "cells": [
    {
     "cell_type": "code",
     "collapsed": false,
     "input": [
      "#Takes Twitter archive CSV and grabs all source tweets\n",
      "\n",
      "\n",
      "import csv\n",
      "import redis\n",
      "from markov.markov import add_line_to_index\n",
      "from markov import Markov\n",
      "import re\n",
      "\n",
      "GRUBER = re.compile(ur'(?i)\\b((?:https?://|www\\d{0,3}[.]|[a-z0-9.\\-]+[.][a-z]{2,4}/)(?:[^\\s()<>]+|\\(([^\\s()<>]+|(\\([^\\s()<>]+\\)))*\\))+(?:\\(([^\\s()<>]+|(\\([^\\s()<>]+\\)))*\\)|[^\\s`!()\\[\\]{};:\\'\".,<>?\\xab\\xbb\\u201c\\u201d\\u2018\\u2019]))')\n",
      "\n",
      "riordan = []\n",
      "with open ('tweets/tweets.csv', 'rb') as tweesv:\n",
      "  tweetreader = csv.reader(tweesv, delimiter=',', quotechar='\"')\n",
      "  for row in tweetreader:\n",
      "    if not row[6] and not row[5].startswith('RT @') and not row[5].startswith('rt @') and not row[5].startswith('@'):\n",
      "      tweettext = row[5]\n",
      "      for url in GRUBER.findall(tweettext):\n",
      "        tweettext=tweettext.replace(url[0],'')\n",
      "      \n",
      "      riordan.append(tweettext)\n",
      "\n",
      "#print riordan\n",
      "\n",
      "\n",
      "client = redis.Redis()\n",
      "twitter_data = Markov(prefix=\"twitter\")\n",
      "for tweet in riordan:\n",
      "  add_line_to_index(tweet.split(), client, prefix=\"tweets\")\n",
      "\n",
      "tweet_data = Markov(prefix=\"tweets\")"
     ],
     "language": "python",
     "metadata": {},
     "outputs": [],
     "prompt_number": 150
    },
    {
     "cell_type": "code",
     "collapsed": false,
     "input": [
      "newTweet()"
     ],
     "language": "python",
     "metadata": {},
     "outputs": [
      {
       "ename": "NameError",
       "evalue": "name 'newTweet' is not defined",
       "output_type": "pyerr",
       "traceback": [
        "\u001b[0;31m---------------------------------------------------------------------------\u001b[0m\n\u001b[0;31mNameError\u001b[0m                                 Traceback (most recent call last)",
        "\u001b[0;32m<ipython-input-244-193658413f9b>\u001b[0m in \u001b[0;36m<module>\u001b[0;34m()\u001b[0m\n\u001b[0;32m----> 1\u001b[0;31m \u001b[0mnewTweet\u001b[0m\u001b[0;34m(\u001b[0m\u001b[0;34m)\u001b[0m\u001b[0;34m\u001b[0m\u001b[0m\n\u001b[0m",
        "\u001b[0;31mNameError\u001b[0m: name 'newTweet' is not defined"
       ]
      }
     ],
     "prompt_number": 244
    },
    {
     "cell_type": "code",
     "collapsed": false,
     "input": [
      "def newTweet():\n",
      "    tweetline = tweet_data.generate()\n",
      "    tweet = \"\"\n",
      "    for word in tweetline:\n",
      "        tweet += word + \" \"\n",
      "    \n",
      "    tweet = tweet.rstrip()\n",
      "    \n",
      "    if len(tweet)>140:\n",
      "        return newTweet()\n",
      "    else:\n",
      "        return tweet\n",
      "\n"
     ],
     "language": "python",
     "metadata": {},
     "outputs": [],
     "prompt_number": 390
    },
    {
     "cell_type": "code",
     "collapsed": false,
     "input": [
      "print newTweet()"
     ],
     "language": "python",
     "metadata": {},
     "outputs": [
      {
       "output_type": "stream",
       "stream": "stdout",
       "text": [
        "completely re-imagined what a catalog can be. Totally ground-breaking #dpla\n"
       ]
      }
     ],
     "prompt_number": 800
    },
    {
     "cell_type": "code",
     "collapsed": false,
     "input": [],
     "language": "python",
     "metadata": {},
     "outputs": [],
     "prompt_number": 385
    },
    {
     "cell_type": "code",
     "collapsed": false,
     "input": [],
     "language": "python",
     "metadata": {},
     "outputs": [],
     "prompt_number": 385
    },
    {
     "cell_type": "code",
     "collapsed": false,
     "input": [],
     "language": "python",
     "metadata": {},
     "outputs": []
    }
   ],
   "metadata": {}
  }
 ]
}